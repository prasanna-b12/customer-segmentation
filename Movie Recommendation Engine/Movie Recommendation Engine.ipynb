{
 "cells": [
  {
   "cell_type": "markdown",
   "metadata": {},
   "source": [
    "# Movie Recommendation Engine "
   ]
  },
  {
   "cell_type": "markdown",
   "metadata": {},
   "source": [
    "<b>- Importing the libraries</b>"
   ]
  },
  {
   "cell_type": "code",
   "execution_count": 1,
   "metadata": {},
   "outputs": [],
   "source": [
    "import numpy as np\n",
    "import pandas as pd\n",
    "from sklearn.metrics.pairwise import cosine_similarity\n",
    "from sklearn.feature_extraction.text import CountVectorizer"
   ]
  },
  {
   "cell_type": "markdown",
   "metadata": {},
   "source": [
    "<b>- Importing the dataset</b>"
   ]
  },
  {
   "cell_type": "code",
   "execution_count": 2,
   "metadata": {},
   "outputs": [
    {
     "data": {
      "text/html": [
       "<div>\n",
       "<style scoped>\n",
       "    .dataframe tbody tr th:only-of-type {\n",
       "        vertical-align: middle;\n",
       "    }\n",
       "\n",
       "    .dataframe tbody tr th {\n",
       "        vertical-align: top;\n",
       "    }\n",
       "\n",
       "    .dataframe thead th {\n",
       "        text-align: right;\n",
       "    }\n",
       "</style>\n",
       "<table border=\"1\" class=\"dataframe\">\n",
       "  <thead>\n",
       "    <tr style=\"text-align: right;\">\n",
       "      <th></th>\n",
       "      <th>movie_id</th>\n",
       "      <th>title</th>\n",
       "      <th>movie_link</th>\n",
       "      <th>year</th>\n",
       "      <th>duration</th>\n",
       "      <th>genre</th>\n",
       "      <th>description</th>\n",
       "      <th>director</th>\n",
       "      <th>actors</th>\n",
       "      <th>rating</th>\n",
       "    </tr>\n",
       "  </thead>\n",
       "  <tbody>\n",
       "    <tr>\n",
       "      <th>0</th>\n",
       "      <td>1</td>\n",
       "      <td>The Blues Brothers</td>\n",
       "      <td>https://www.imdb.com/title/tt0080455/</td>\n",
       "      <td>1980</td>\n",
       "      <td>133.0</td>\n",
       "      <td>Action, Adventure, Comedy</td>\n",
       "      <td>Jake Blues, just released from prison, puts to...</td>\n",
       "      <td>John Landis</td>\n",
       "      <td>John Belushi, Dan Aykroyd, Cab Calloway, John ...</td>\n",
       "      <td>7.9</td>\n",
       "    </tr>\n",
       "    <tr>\n",
       "      <th>1</th>\n",
       "      <td>2</td>\n",
       "      <td>The Shining</td>\n",
       "      <td>https://www.imdb.com/title/tt0081505/</td>\n",
       "      <td>1980</td>\n",
       "      <td>146.0</td>\n",
       "      <td>Drama, Horror</td>\n",
       "      <td>A family heads to an isolated hotel for the wi...</td>\n",
       "      <td>Stanley Kubrick</td>\n",
       "      <td>Jack Nicholson, Shelley Duvall, Danny Lloyd, S...</td>\n",
       "      <td>8.4</td>\n",
       "    </tr>\n",
       "    <tr>\n",
       "      <th>2</th>\n",
       "      <td>3</td>\n",
       "      <td>The Blue Lagoon</td>\n",
       "      <td>https://www.imdb.com/title/tt0080453/</td>\n",
       "      <td>1980</td>\n",
       "      <td>104.0</td>\n",
       "      <td>Adventure, Drama, Romance</td>\n",
       "      <td>In the Victorian period, two children are ship...</td>\n",
       "      <td>Randal Kleiser</td>\n",
       "      <td>Brooke Shields, Christopher Atkins, Leo McKern...</td>\n",
       "      <td>5.8</td>\n",
       "    </tr>\n",
       "    <tr>\n",
       "      <th>3</th>\n",
       "      <td>4</td>\n",
       "      <td>Cannibal Holocaust</td>\n",
       "      <td>https://www.imdb.com/title/tt0078935/</td>\n",
       "      <td>1980</td>\n",
       "      <td>95.0</td>\n",
       "      <td>Adventure, Horror</td>\n",
       "      <td>During a rescue mission into the Amazon rainfo...</td>\n",
       "      <td>Ruggero Deodato</td>\n",
       "      <td>Robert Kerman, Francesca Ciardi, Perry Pirkane...</td>\n",
       "      <td>5.9</td>\n",
       "    </tr>\n",
       "    <tr>\n",
       "      <th>4</th>\n",
       "      <td>5</td>\n",
       "      <td>Star Wars: Episode V - The Empire Strikes Back</td>\n",
       "      <td>https://www.imdb.com/title/tt0080684/</td>\n",
       "      <td>1980</td>\n",
       "      <td>124.0</td>\n",
       "      <td>Action, Adventure, Fantasy</td>\n",
       "      <td>After the Rebels are brutally overpowered by t...</td>\n",
       "      <td>Irvin Kershner</td>\n",
       "      <td>Mark Hamill, Harrison Ford, Carrie Fisher, Bil...</td>\n",
       "      <td>8.7</td>\n",
       "    </tr>\n",
       "  </tbody>\n",
       "</table>\n",
       "</div>"
      ],
      "text/plain": [
       "   movie_id                                           title  \\\n",
       "0         1                              The Blues Brothers   \n",
       "1         2                                     The Shining   \n",
       "2         3                                 The Blue Lagoon   \n",
       "3         4                              Cannibal Holocaust   \n",
       "4         5  Star Wars: Episode V - The Empire Strikes Back   \n",
       "\n",
       "                              movie_link  year  duration  \\\n",
       "0  https://www.imdb.com/title/tt0080455/  1980     133.0   \n",
       "1  https://www.imdb.com/title/tt0081505/  1980     146.0   \n",
       "2  https://www.imdb.com/title/tt0080453/  1980     104.0   \n",
       "3  https://www.imdb.com/title/tt0078935/  1980      95.0   \n",
       "4  https://www.imdb.com/title/tt0080684/  1980     124.0   \n",
       "\n",
       "                        genre  \\\n",
       "0   Action, Adventure, Comedy   \n",
       "1               Drama, Horror   \n",
       "2   Adventure, Drama, Romance   \n",
       "3           Adventure, Horror   \n",
       "4  Action, Adventure, Fantasy   \n",
       "\n",
       "                                         description         director  \\\n",
       "0  Jake Blues, just released from prison, puts to...      John Landis   \n",
       "1  A family heads to an isolated hotel for the wi...  Stanley Kubrick   \n",
       "2  In the Victorian period, two children are ship...   Randal Kleiser   \n",
       "3  During a rescue mission into the Amazon rainfo...  Ruggero Deodato   \n",
       "4  After the Rebels are brutally overpowered by t...   Irvin Kershner   \n",
       "\n",
       "                                              actors  rating  \n",
       "0  John Belushi, Dan Aykroyd, Cab Calloway, John ...     7.9  \n",
       "1  Jack Nicholson, Shelley Duvall, Danny Lloyd, S...     8.4  \n",
       "2  Brooke Shields, Christopher Atkins, Leo McKern...     5.8  \n",
       "3  Robert Kerman, Francesca Ciardi, Perry Pirkane...     5.9  \n",
       "4  Mark Hamill, Harrison Ford, Carrie Fisher, Bil...     8.7  "
      ]
     },
     "execution_count": 2,
     "metadata": {},
     "output_type": "execute_result"
    }
   ],
   "source": [
    "data = pd.read_csv(\"csv/imdb_english_movies.csv\")\n",
    "data.head()"
   ]
  },
  {
   "cell_type": "markdown",
   "metadata": {},
   "source": [
    "<p style=\"color:red\">Remove the rows where the <u>genre</u> / <u>actors</u> / <u>director</u> / <u>title</u> column is null. Here I already cleaned it and ready to built the recommendation model"
   ]
  },
  {
   "cell_type": "markdown",
   "metadata": {},
   "source": [
    "<b>- merging the required columns into one column[features]</b>"
   ]
  },
  {
   "cell_type": "code",
   "execution_count": 3,
   "metadata": {},
   "outputs": [
    {
     "data": {
      "text/plain": [
       "0       Action, Adventure, Comedy John Belushi, Dan Ay...\n",
       "1       Drama, Horror Jack Nicholson, Shelley Duvall, ...\n",
       "2       Adventure, Drama, Romance Brooke Shields, Chri...\n",
       "3       Adventure, Horror Robert Kerman, Francesca Cia...\n",
       "4       Action, Adventure, Fantasy Mark Hamill, Harris...\n",
       "                              ...                        \n",
       "4841    Drama, Romance, Sci-Fi Owen Wilson, Salma Haye...\n",
       "4842    Action, Drama Tom Cruise, Jennifer Connelly, M...\n",
       "4843    Horror, Thriller Alicia Sanz, Adan Canto, Will...\n",
       "4844    Comedy, Fantasy, Romance Kathryn Newton, Kyle ...\n",
       "4845    Drama, Romance Victoria Justice, Matthew Dadda...\n",
       "Name: features, Length: 4846, dtype: object"
      ]
     },
     "execution_count": 3,
     "metadata": {},
     "output_type": "execute_result"
    }
   ],
   "source": [
    "def get_features(data):\n",
    "    features = []\n",
    "    for i in range(0, data.shape[0]):\n",
    "        features.append(data[\"genre\"][i] +' '+ data[\"actors\"][i] +' '+ data[\"director\"][i] +' '+  data[\"title\"][i])\n",
    "    return features\n",
    "\n",
    "# storing the values in new column\n",
    "data[\"features\"] = get_features(data)\n",
    "data[\"features\"]"
   ]
  },
  {
   "cell_type": "code",
   "execution_count": 4,
   "metadata": {},
   "outputs": [],
   "source": [
    "# convert the text to a vector of token counts\n",
    "cv = CountVectorizer()\n",
    "text_matrix = cv.fit_transform(data[\"features\"])\n",
    "\n",
    "# measures the similarity between two vectors\n",
    "cosine_sim = cosine_similarity(text_matrix, text_matrix)\n",
    "\n",
    "# creating a new index\n",
    "metadata = data.reset_index()\n",
    "\n",
    "# storing the title of the movie with the index\n",
    "indices = pd.Series(metadata.index, index=metadata['title'])"
   ]
  },
  {
   "cell_type": "markdown",
   "metadata": {},
   "source": [
    "<b>- CountVectorizer"
   ]
  },
  {
   "cell_type": "code",
   "execution_count": 5,
   "metadata": {},
   "outputs": [
    {
     "data": {
      "text/plain": [
       "13852"
      ]
     },
     "execution_count": 5,
     "metadata": {},
     "output_type": "execute_result"
    }
   ],
   "source": [
    "# total number of columns\n",
    "len(cv.get_feature_names())"
   ]
  },
  {
   "cell_type": "code",
   "execution_count": 6,
   "metadata": {},
   "outputs": [
    {
     "data": {
      "text/plain": [
       "'Action, Adventure, Comedy John Belushi, Dan Aykroyd, Cab Calloway, John Candy John Landis The Blues Brothers'"
      ]
     },
     "execution_count": 6,
     "metadata": {},
     "output_type": "execute_result"
    }
   ],
   "source": [
    "# first row in feautres column\n",
    "data['features'][0]"
   ]
  },
  {
   "cell_type": "code",
   "execution_count": 7,
   "metadata": {},
   "outputs": [
    {
     "data": {
      "text/plain": [
       "[array(['action', 'adventure', 'aykroyd', 'belushi', 'blues', 'brothers',\n",
       "        'cab', 'calloway', 'candy', 'comedy', 'dan', 'john', 'landis',\n",
       "        'the'], dtype='<U17')]"
      ]
     },
     "execution_count": 7,
     "metadata": {},
     "output_type": "execute_result"
    }
   ],
   "source": [
    "# transformed text\n",
    "cv.inverse_transform(text_matrix[0])"
   ]
  },
  {
   "cell_type": "code",
   "execution_count": 8,
   "metadata": {},
   "outputs": [
    {
     "data": {
      "text/plain": [
       "array([0, 0, 0, ..., 0, 0, 0], dtype=int64)"
      ]
     },
     "execution_count": 8,
     "metadata": {},
     "output_type": "execute_result"
    }
   ],
   "source": [
    "# transformed into tokens\n",
    "text_matrix.toarray()[0]"
   ]
  },
  {
   "cell_type": "markdown",
   "metadata": {},
   "source": [
    "<b>- Enter the exact English movie name without mistake or white space</b>"
   ]
  },
  {
   "cell_type": "code",
   "execution_count": 9,
   "metadata": {},
   "outputs": [
    {
     "name": "stdout",
     "output_type": "stream",
     "text": [
      "Enter the movie name: iron man\n",
      "\n",
      "Top 10 Similar Movies of Iron Man\n",
      "- Iron Man 2\n",
      "- Iron Man 3\n",
      "- Spider-Man: Homecoming\n",
      "- Chef\n",
      "- The Avengers\n",
      "- Tron\n",
      "- Tron\n",
      "- Avengers: Age Of Ultron\n",
      "- Captain America: Civil War\n",
      "- Avengers: Infinity War\n"
     ]
    }
   ],
   "source": [
    "# Enter the movie name\n",
    "title=input(\"Enter the movie name: \").title()\n",
    "\n",
    "# store the index of the movie name entered \n",
    "idx = indices[title]\n",
    "\n",
    "# Get the pairwsie similarity scores of all movies with that movie\n",
    "sim_scores = list(enumerate(cosine_sim[idx]))\n",
    "\n",
    "# Sort the movies based on the similarity scores\n",
    "sim_scores = sorted(sim_scores, key=lambda x: x[1], reverse=True)\n",
    "\n",
    "# Get the scores of the 10 most similar movies\n",
    "sim_scores = sim_scores[1:11]\n",
    "\n",
    "# Get the movie indices\n",
    "movie_indices = [i[0] for i in sim_scores]\n",
    "\n",
    "# Return the top 10 most similar movies\n",
    "print(\"\\nTop 10 Similar Movies of\", title)\n",
    "for i in movie_indices:\n",
    "    print(\"-\", data['title'].iloc[i])"
   ]
  },
  {
   "cell_type": "markdown",
   "metadata": {},
   "source": [
    "<h3 style=\"color:blue\">Hooray!</h3>"
   ]
  }
 ],
 "metadata": {
  "kernelspec": {
   "display_name": "Python 3",
   "language": "python",
   "name": "python3"
  },
  "language_info": {
   "codemirror_mode": {
    "name": "ipython",
    "version": 3
   },
   "file_extension": ".py",
   "mimetype": "text/x-python",
   "name": "python",
   "nbconvert_exporter": "python",
   "pygments_lexer": "ipython3",
   "version": "3.7.6"
  }
 },
 "nbformat": 4,
 "nbformat_minor": 4
}
