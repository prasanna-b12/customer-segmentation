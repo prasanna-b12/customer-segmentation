{
 "cells": [
  {
   "cell_type": "markdown",
   "id": "502aed2a",
   "metadata": {},
   "source": [
    "# Customer segmentation | K Means Clustering"
   ]
  },
  {
   "cell_type": "markdown",
   "id": "254559b1",
   "metadata": {},
   "source": [
    "<b>- Importing the libraries</b>"
   ]
  },
  {
   "cell_type": "code",
   "execution_count": 1,
   "id": "91113a38",
   "metadata": {},
   "outputs": [],
   "source": [
    "import numpy as np\n",
    "import pandas as pd\n",
    "from sklearn.cluster import KMeans\n",
    "import matplotlib.pyplot as plt"
   ]
  },
  {
   "cell_type": "markdown",
   "id": "df9abb64",
   "metadata": {},
   "source": [
    "<b>- Importing the Dataset</b>"
   ]
  },
  {
   "cell_type": "code",
   "execution_count": 2,
   "id": "70f23d0f",
   "metadata": {},
   "outputs": [
    {
     "data": {
      "text/html": [
       "<div>\n",
       "<style scoped>\n",
       "    .dataframe tbody tr th:only-of-type {\n",
       "        vertical-align: middle;\n",
       "    }\n",
       "\n",
       "    .dataframe tbody tr th {\n",
       "        vertical-align: top;\n",
       "    }\n",
       "\n",
       "    .dataframe thead th {\n",
       "        text-align: right;\n",
       "    }\n",
       "</style>\n",
       "<table border=\"1\" class=\"dataframe\">\n",
       "  <thead>\n",
       "    <tr style=\"text-align: right;\">\n",
       "      <th></th>\n",
       "      <th>age</th>\n",
       "      <th>income</th>\n",
       "      <th>store_image</th>\n",
       "      <th>price_deal</th>\n",
       "      <th>ad_support</th>\n",
       "      <th>distribution</th>\n",
       "      <th>price_perception</th>\n",
       "    </tr>\n",
       "  </thead>\n",
       "  <tbody>\n",
       "    <tr>\n",
       "      <th>0</th>\n",
       "      <td>37</td>\n",
       "      <td>6000</td>\n",
       "      <td>3.000000</td>\n",
       "      <td>3.333333</td>\n",
       "      <td>3.000000</td>\n",
       "      <td>3.5</td>\n",
       "      <td>3.333333</td>\n",
       "    </tr>\n",
       "    <tr>\n",
       "      <th>1</th>\n",
       "      <td>44</td>\n",
       "      <td>3500</td>\n",
       "      <td>4.571429</td>\n",
       "      <td>4.333333</td>\n",
       "      <td>4.333333</td>\n",
       "      <td>4.5</td>\n",
       "      <td>4.333333</td>\n",
       "    </tr>\n",
       "    <tr>\n",
       "      <th>2</th>\n",
       "      <td>24</td>\n",
       "      <td>7000</td>\n",
       "      <td>3.000000</td>\n",
       "      <td>3.666667</td>\n",
       "      <td>3.333333</td>\n",
       "      <td>3.5</td>\n",
       "      <td>2.666667</td>\n",
       "    </tr>\n",
       "    <tr>\n",
       "      <th>3</th>\n",
       "      <td>24</td>\n",
       "      <td>8400</td>\n",
       "      <td>2.571429</td>\n",
       "      <td>2.666667</td>\n",
       "      <td>3.390760</td>\n",
       "      <td>3.5</td>\n",
       "      <td>3.283142</td>\n",
       "    </tr>\n",
       "    <tr>\n",
       "      <th>4</th>\n",
       "      <td>22</td>\n",
       "      <td>5000</td>\n",
       "      <td>3.000000</td>\n",
       "      <td>3.791789</td>\n",
       "      <td>2.000000</td>\n",
       "      <td>2.0</td>\n",
       "      <td>2.333333</td>\n",
       "    </tr>\n",
       "  </tbody>\n",
       "</table>\n",
       "</div>"
      ],
      "text/plain": [
       "   age  income  store_image  price_deal  ad_support  distribution  \\\n",
       "0   37    6000     3.000000    3.333333    3.000000           3.5   \n",
       "1   44    3500     4.571429    4.333333    4.333333           4.5   \n",
       "2   24    7000     3.000000    3.666667    3.333333           3.5   \n",
       "3   24    8400     2.571429    2.666667    3.390760           3.5   \n",
       "4   22    5000     3.000000    3.791789    2.000000           2.0   \n",
       "\n",
       "   price_perception  \n",
       "0          3.333333  \n",
       "1          4.333333  \n",
       "2          2.666667  \n",
       "3          3.283142  \n",
       "4          2.333333  "
      ]
     },
     "execution_count": 2,
     "metadata": {},
     "output_type": "execute_result"
    }
   ],
   "source": [
    "data = pd.read_csv(\"csv/customers_segment.csv\")\n",
    "data.head()"
   ]
  },
  {
   "cell_type": "markdown",
   "id": "e978bee0",
   "metadata": {},
   "source": [
    "<b>- Screening the dataset</b>"
   ]
  },
  {
   "cell_type": "code",
   "execution_count": 3,
   "id": "d318a1fb",
   "metadata": {},
   "outputs": [
    {
     "name": "stdout",
     "output_type": "stream",
     "text": [
      "<class 'pandas.core.frame.DataFrame'>\n",
      "RangeIndex: 262 entries, 0 to 261\n",
      "Data columns (total 7 columns):\n",
      " #   Column            Non-Null Count  Dtype  \n",
      "---  ------            --------------  -----  \n",
      " 0   age               262 non-null    int64  \n",
      " 1   income            262 non-null    int64  \n",
      " 2   store_image       262 non-null    float64\n",
      " 3   price_deal        262 non-null    float64\n",
      " 4   ad_support        262 non-null    float64\n",
      " 5   distribution      262 non-null    float64\n",
      " 6   price_perception  262 non-null    float64\n",
      "dtypes: float64(5), int64(2)\n",
      "memory usage: 14.5 KB\n"
     ]
    }
   ],
   "source": [
    "data.info()"
   ]
  },
  {
   "cell_type": "markdown",
   "id": "9a5cbaef",
   "metadata": {},
   "source": [
    "<p style=\"color:blue\">Hurray! there's no non-null value, so no need for data cleaning."
   ]
  },
  {
   "cell_type": "markdown",
   "id": "a35724b2",
   "metadata": {},
   "source": [
    "<b>- Identifying the optimal number of clusters</b>"
   ]
  },
  {
   "cell_type": "code",
   "execution_count": 4,
   "id": "af798d22",
   "metadata": {},
   "outputs": [
    {
     "data": {
      "image/png": "[encoded data removed]",
      "text/plain": [
       "<Figure size 432x288 with 1 Axes>"
      ]
     },
     "metadata": {
      "needs_background": "light"
     },
     "output_type": "display_data"
    },
    {
     "name": "stdout",
     "output_type": "stream",
     "text": [
      "[1065.7499376793708, 730.4082089833535, 625.0846440315738, 567.0107618398637, 513.9918079560739, 476.02961034282487, 448.70351285559383, 418.4144806240495, 399.84732332319646, 370.8641823680047]\n"
     ]
    }
   ],
   "source": [
    "# required variable for clustering\n",
    "x = data.iloc[:,2:].values\n",
    "\n",
    "# using the elbow method to find out the optimal number of clusters\n",
    "variation = []\n",
    "\n",
    "for i in range(1,11):\n",
    "    kmeans = KMeans(n_clusters=i)\n",
    "    kmeans.fit(x)\n",
    "    variation.append(kmeans.inertia_)\n",
    "\n",
    "# plotting the variation with the number of clusters\n",
    "plt.plot(range(1,11),variation, marker= '*',  c = 'red')\n",
    "plt.title(\"Elbow Method\", size=20)\n",
    "plt.xlabel(\"Number of Clusters\")\n",
    "plt.ylabel(\"Variation\")\n",
    "plt.show()\n",
    "print(variation)"
   ]
  },
  {
   "cell_type": "markdown",
   "id": "990ff118",
   "metadata": {},
   "source": [
    "<p style=\"color:blue\">As you can see after the second iteration there is less variation. It indicates we can choose <u>2 Clusters</u> Even you can choose three clusters provided each cluster is 'sizable', you will know it at the end."
   ]
  },
  {
   "cell_type": "markdown",
   "id": "c2152f5b",
   "metadata": {},
   "source": [
    "<b>- Initializing the K-Means clustering</b>"
   ]
  },
  {
   "cell_type": "code",
   "execution_count": 5,
   "id": "09477673",
   "metadata": {},
   "outputs": [
    {
     "data": {
      "text/plain": [
       "array([1, 0, 0, 1, 1, 1, 1, 1, 0, 1, 1, 1, 1, 1, 1, 0, 1, 1, 0, 0, 0, 0,\n",
       "       1, 0, 0, 0, 0, 0, 0, 0, 1, 0, 0, 1, 0, 0, 1, 0, 0, 1, 1, 1, 0, 1,\n",
       "       1, 1, 1, 0, 1, 1, 0, 1, 1, 0, 0, 0, 1, 0, 0, 1, 0, 0, 0, 1, 0, 0,\n",
       "       0, 0, 0, 1, 0, 0, 1, 0, 0, 1, 1, 1, 0, 1, 1, 1, 1, 1, 1, 1, 0, 1,\n",
       "       1, 0, 0, 0, 0, 0, 0, 1, 1, 0, 0, 0, 1, 1, 0, 0, 0, 0, 1, 1, 0, 0,\n",
       "       0, 1, 0, 0, 0, 0, 1, 1, 0, 1, 1, 0, 1, 0, 1, 1, 1, 1, 1, 0, 1, 1,\n",
       "       0, 0, 0, 0, 0, 1, 0, 1, 0, 0, 0, 1, 1, 1, 0, 1, 0, 0, 1, 1, 1, 0,\n",
       "       1, 1, 0, 0, 1, 1, 1, 1, 0, 0, 0, 1, 0, 1, 1, 0, 1, 0, 1, 0, 0, 0,\n",
       "       1, 1, 1, 0, 0, 0, 0, 1, 1, 1, 0, 1, 1, 1, 0, 0, 1, 1, 0, 0, 0, 1,\n",
       "       0, 1, 1, 1, 0, 0, 1, 0, 1, 1, 0, 0, 1, 1, 1, 0, 0, 1, 1, 0, 1, 0,\n",
       "       1, 0, 0, 0, 1, 0, 0, 0, 0, 0, 0, 0, 0, 1, 0, 0, 1, 0, 1, 1, 0, 1,\n",
       "       1, 1, 1, 0, 0, 0, 1, 1, 1, 1, 0, 1, 0, 1, 0, 1, 1, 0, 0, 0])"
      ]
     },
     "execution_count": 5,
     "metadata": {},
     "output_type": "execute_result"
    }
   ],
   "source": [
    "# applying kmeans algorithm with the number of clusters and iteration\n",
    "km = KMeans(n_clusters=2, max_iter=200)\n",
    "clusters = km.fit_predict(x)\n",
    "clusters"
   ]
  },
  {
   "cell_type": "code",
   "execution_count": 6,
   "id": "b8152ee2",
   "metadata": {},
   "outputs": [
    {
     "data": {
      "text/html": [
       "<div>\n",
       "<style scoped>\n",
       "    .dataframe tbody tr th:only-of-type {\n",
       "        vertical-align: middle;\n",
       "    }\n",
       "\n",
       "    .dataframe tbody tr th {\n",
       "        vertical-align: top;\n",
       "    }\n",
       "\n",
       "    .dataframe thead th {\n",
       "        text-align: right;\n",
       "    }\n",
       "</style>\n",
       "<table border=\"1\" class=\"dataframe\">\n",
       "  <thead>\n",
       "    <tr style=\"text-align: right;\">\n",
       "      <th></th>\n",
       "      <th>age</th>\n",
       "      <th>income</th>\n",
       "      <th>store_image</th>\n",
       "      <th>price_deal</th>\n",
       "      <th>ad_support</th>\n",
       "      <th>distribution</th>\n",
       "      <th>price_perception</th>\n",
       "      <th>label</th>\n",
       "    </tr>\n",
       "  </thead>\n",
       "  <tbody>\n",
       "    <tr>\n",
       "      <th>0</th>\n",
       "      <td>37</td>\n",
       "      <td>6000</td>\n",
       "      <td>3.000000</td>\n",
       "      <td>3.333333</td>\n",
       "      <td>3.000000</td>\n",
       "      <td>3.5</td>\n",
       "      <td>3.333333</td>\n",
       "      <td>1</td>\n",
       "    </tr>\n",
       "    <tr>\n",
       "      <th>1</th>\n",
       "      <td>44</td>\n",
       "      <td>3500</td>\n",
       "      <td>4.571429</td>\n",
       "      <td>4.333333</td>\n",
       "      <td>4.333333</td>\n",
       "      <td>4.5</td>\n",
       "      <td>4.333333</td>\n",
       "      <td>0</td>\n",
       "    </tr>\n",
       "    <tr>\n",
       "      <th>2</th>\n",
       "      <td>24</td>\n",
       "      <td>7000</td>\n",
       "      <td>3.000000</td>\n",
       "      <td>3.666667</td>\n",
       "      <td>3.333333</td>\n",
       "      <td>3.5</td>\n",
       "      <td>2.666667</td>\n",
       "      <td>0</td>\n",
       "    </tr>\n",
       "    <tr>\n",
       "      <th>3</th>\n",
       "      <td>24</td>\n",
       "      <td>8400</td>\n",
       "      <td>2.571429</td>\n",
       "      <td>2.666667</td>\n",
       "      <td>3.390760</td>\n",
       "      <td>3.5</td>\n",
       "      <td>3.283142</td>\n",
       "      <td>1</td>\n",
       "    </tr>\n",
       "    <tr>\n",
       "      <th>4</th>\n",
       "      <td>22</td>\n",
       "      <td>5000</td>\n",
       "      <td>3.000000</td>\n",
       "      <td>3.791789</td>\n",
       "      <td>2.000000</td>\n",
       "      <td>2.0</td>\n",
       "      <td>2.333333</td>\n",
       "      <td>1</td>\n",
       "    </tr>\n",
       "  </tbody>\n",
       "</table>\n",
       "</div>"
      ],
      "text/plain": [
       "   age  income  store_image  price_deal  ad_support  distribution  \\\n",
       "0   37    6000     3.000000    3.333333    3.000000           3.5   \n",
       "1   44    3500     4.571429    4.333333    4.333333           4.5   \n",
       "2   24    7000     3.000000    3.666667    3.333333           3.5   \n",
       "3   24    8400     2.571429    2.666667    3.390760           3.5   \n",
       "4   22    5000     3.000000    3.791789    2.000000           2.0   \n",
       "\n",
       "   price_perception  label  \n",
       "0          3.333333      1  \n",
       "1          4.333333      0  \n",
       "2          2.666667      0  \n",
       "3          3.283142      1  \n",
       "4          2.333333      1  "
      ]
     },
     "execution_count": 6,
     "metadata": {},
     "output_type": "execute_result"
    }
   ],
   "source": [
    "# joining the predicted label to the dataframe \n",
    "df = pd.DataFrame(clusters, columns=[\"label\"])\n",
    "jn = data.join(df)\n",
    "jn.head()"
   ]
  },
  {
   "cell_type": "code",
   "execution_count": 7,
   "id": "08f5cb4e",
   "metadata": {},
   "outputs": [
    {
     "name": "stdout",
     "output_type": "stream",
     "text": [
      "Total counts:  262\n"
     ]
    },
    {
     "data": {
      "text/plain": [
       "0    135\n",
       "1    127\n",
       "Name: label, dtype: int64"
      ]
     },
     "execution_count": 7,
     "metadata": {},
     "output_type": "execute_result"
    }
   ],
   "source": [
    "# number of cases in each clusters\n",
    "print(\"Total counts: \", jn['label'].count())\n",
    "jn['label'].value_counts()"
   ]
  },
  {
   "cell_type": "markdown",
   "id": "71e9b981",
   "metadata": {},
   "source": [
    "<b>- Final Cluster Centers</b>"
   ]
  },
  {
   "cell_type": "code",
   "execution_count": 8,
   "id": "db82e3c4",
   "metadata": {},
   "outputs": [
    {
     "data": {
      "text/html": [
       "<div>\n",
       "<style scoped>\n",
       "    .dataframe tbody tr th:only-of-type {\n",
       "        vertical-align: middle;\n",
       "    }\n",
       "\n",
       "    .dataframe tbody tr th {\n",
       "        vertical-align: top;\n",
       "    }\n",
       "\n",
       "    .dataframe thead th {\n",
       "        text-align: right;\n",
       "    }\n",
       "</style>\n",
       "<table border=\"1\" class=\"dataframe\">\n",
       "  <thead>\n",
       "    <tr style=\"text-align: right;\">\n",
       "      <th></th>\n",
       "      <th>0</th>\n",
       "      <th>1</th>\n",
       "    </tr>\n",
       "  </thead>\n",
       "  <tbody>\n",
       "    <tr>\n",
       "      <th>Ad Support</th>\n",
       "      <td>3.923341</td>\n",
       "      <td>2.838981</td>\n",
       "    </tr>\n",
       "    <tr>\n",
       "      <th>Distribution</th>\n",
       "      <td>4.156847</td>\n",
       "      <td>2.657480</td>\n",
       "    </tr>\n",
       "    <tr>\n",
       "      <th>Price Deal</th>\n",
       "      <td>3.649472</td>\n",
       "      <td>2.702434</td>\n",
       "    </tr>\n",
       "    <tr>\n",
       "      <th>Price Perception</th>\n",
       "      <td>3.480382</td>\n",
       "      <td>3.031604</td>\n",
       "    </tr>\n",
       "    <tr>\n",
       "      <th>Store Image</th>\n",
       "      <td>3.730274</td>\n",
       "      <td>2.954208</td>\n",
       "    </tr>\n",
       "  </tbody>\n",
       "</table>\n",
       "</div>"
      ],
      "text/plain": [
       "                         0         1\n",
       "Ad Support        3.923341  2.838981\n",
       "Distribution      4.156847  2.657480\n",
       "Price Deal        3.649472  2.702434\n",
       "Price Perception  3.480382  3.031604\n",
       "Store Image       3.730274  2.954208"
      ]
     },
     "execution_count": 8,
     "metadata": {},
     "output_type": "execute_result"
    }
   ],
   "source": [
    "# getting the mean distances of all the features and each clusters\n",
    "c = km.cluster_centers_\n",
    "centers = pd.DataFrame(c,columns=[\"Store Image\", \"Price Deal\", \"Ad Support\", \"Distribution\", \"Price Perception\"])\n",
    "table = pd.pivot_table(centers, columns=[0,1])\n",
    "table"
   ]
  },
  {
   "cell_type": "markdown",
   "id": "377815e4",
   "metadata": {},
   "source": [
    "<p style=\"color:blue\">From the two cluster solution,</p>\n",
    "<ul style=\"color:blue\"><u>Cluster-1</u> : Happy Consumers, since there means are closer to 4 and above</ul>\n",
    "<ul style=\"color:blue\"><u>Cluster-2</u> : Unhappy Consumers, means are less</ul>"
   ]
  },
  {
   "cell_type": "markdown",
   "id": "d1658201",
   "metadata": {},
   "source": [
    "<b>- Radar Chart</b>"
   ]
  },
  {
   "cell_type": "code",
   "execution_count": 9,
   "id": "d9707aa7",
   "metadata": {},
   "outputs": [
    {
     "data": {
      "image/png": "[encoded data removed]",
      "text/plain": [
       "<Figure size 432x288 with 1 Axes>"
      ]
     },
     "metadata": {
      "needs_background": "light"
     },
     "output_type": "display_data"
    }
   ],
   "source": [
    "# creating the radar chaart to display the clusters\n",
    "categories = [\"Store Image\", \"Price Deal\", \"Ad Support\", \"Distribution\", \"Price Perception\"]\n",
    "categories = [*categories, categories[0]]\n",
    "\n",
    "v1 = c[0]\n",
    "v1 = [*v1, v1[0]]\n",
    "v2 = c[1]\n",
    "v2 = [*v2, v2[0]]\n",
    "\n",
    "label = np.linspace(start=0, stop=2*np.pi,num=len(v1))\n",
    "\n",
    "plt.subplot(polar=True)\n",
    "plt.plot(label, v1, label='Happy Customers', color= 'b')\n",
    "plt.fill(label, v1, 'b', alpha=0.2)\n",
    "plt.plot(label, v2, label='Unhappy Customers', color= 'm')\n",
    "plt.fill(label, v2, 'm', alpha=0.5)\n",
    "lines = plt.thetagrids(np.degrees(label), labels=categories)\n",
    "plt.legend(loc=\"upper right\", bbox_to_anchor=(1.7,1.1))\n",
    "plt.yticks([1,2,3,4,5], color=\"black\", size=8)\n",
    "plt.show()"
   ]
  },
  {
   "cell_type": "markdown",
   "id": "09f31025",
   "metadata": {},
   "source": [
    "<b>- Scatter Plot</b>"
   ]
  },
  {
   "cell_type": "markdown",
   "id": "2c847770",
   "metadata": {},
   "source": [
    "Taking the Distribution and Ad support variables i.e,(top two variables where the mean values are vastly different between the clusters) to visualize the clusters in 2D scatter plot"
   ]
  },
  {
   "cell_type": "code",
   "execution_count": 10,
   "id": "7546ea2c",
   "metadata": {},
   "outputs": [
    {
     "data": {
      "image/png": "[encoded data removed]",
      "text/plain": [
       "<Figure size 432x288 with 1 Axes>"
      ]
     },
     "metadata": {
      "needs_background": "light"
     },
     "output_type": "display_data"
    }
   ],
   "source": [
    "# Visualising the clusters in 2D satter plot\n",
    "plt.scatter(x[clusters == 1, 3], x[clusters == 1,2],s = 50, c='blue', label = 'Happy Customers')\n",
    "plt.scatter(x[clusters == 0, 3], x[clusters == 0,2],s = 50, c='magenta', label = 'Unhappy Customers')\n",
    "plt.scatter([4.156847, 2.657480], [3.923341,2.838981], s = 200, c = 'red', label = 'Centroids')\n",
    "plt.title('Clusters of customers')\n",
    "plt.xlabel('Distribution')\n",
    "plt.ylabel('Ad Support')\n",
    "plt.legend(bbox_to_anchor=(1.2,1.1))\n",
    "plt.show()"
   ]
  },
  {
   "cell_type": "markdown",
   "id": "71ac3d50",
   "metadata": {},
   "source": [
    "As you can see some points are seems to be not correctly clustered based on the centroid, remember that there are three variables included to classify the clusters"
   ]
  },
  {
   "cell_type": "markdown",
   "id": "3c31798e",
   "metadata": {},
   "source": [
    "<mark style=\"background-color:yellow\"><b>Note: </b>If logical, you may initialize cluster-3, provided it is meaningful</mark>"
   ]
  }
 ],
 "metadata": {
  "kernelspec": {
   "display_name": "Python 3",
   "language": "python",
   "name": "python3"
  },
  "language_info": {
   "codemirror_mode": {
    "name": "ipython",
    "version": 3
   },
   "file_extension": ".py",
   "mimetype": "text/x-python",
   "name": "python",
   "nbconvert_exporter": "python",
   "pygments_lexer": "ipython3",
   "version": "3.7.6"
  }
 },
 "nbformat": 4,
 "nbformat_minor": 5
}
